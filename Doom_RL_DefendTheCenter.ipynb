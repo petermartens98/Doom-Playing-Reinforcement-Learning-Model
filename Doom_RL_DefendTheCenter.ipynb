{
 "cells": [
  {
   "cell_type": "markdown",
   "id": "fed6acd5",
   "metadata": {},
   "source": [
    "# Doom Playing Reinforcement Learning Model - Basic Level"
   ]
  },
  {
   "cell_type": "markdown",
   "id": "abd68ef7",
   "metadata": {},
   "source": [
    "## 1. Prepare Enviorment"
   ]
  },
  {
   "cell_type": "code",
   "execution_count": 70,
   "id": "76b8a599",
   "metadata": {},
   "outputs": [],
   "source": [
    "# To install viz doom\n",
    "# !pip install vizdoom\n",
    "\n",
    "# Clone the VizDoom GitHub repo from this URL\n",
    "# https://github.com/mwydmuch/ViZDoom"
   ]
  },
  {
   "cell_type": "code",
   "execution_count": 1,
   "id": "2dffe39a",
   "metadata": {},
   "outputs": [],
   "source": [
    "# Import necessary Libraries\n",
    "import random # allows for action sampling\n",
    "import time # # allows for sleeping between frames\n",
    "import numpy as np # import for identity array matrix\n",
    "from vizdoom import * # import for game enviornment\n",
    "from matplotlib import pyplot as plt # import for vizualizations"
   ]
  },
  {
   "cell_type": "code",
   "execution_count": 18,
   "id": "6179077d",
   "metadata": {},
   "outputs": [],
   "source": [
    "game = DoomGame() # Define game\n",
    "game.load_config('ViZDoom-master/ViZDoom-master/scenarios/defend_the_center.cfg') # Load Game configuration\n",
    "\n",
    "# In Rendering options for defend_the_center.cfg -> change:\n",
    "# Match res for basic.cfg\n",
    "# Allows for faster training too\n",
    "## screen_resolution = RES_320X240\n",
    "\n",
    "game.init() # Initial Game "
   ]
  },
  {
   "cell_type": "code",
   "execution_count": 19,
   "id": "04184ce1",
   "metadata": {},
   "outputs": [],
   "source": [
    "# Set of possible actions in current Doom game enviornment\n",
    "actions = np.identity(3, dtype=np.uint8)"
   ]
  },
  {
   "cell_type": "markdown",
   "id": "0848e41e",
   "metadata": {},
   "source": [
    "#### Start new game episode"
   ]
  },
  {
   "cell_type": "code",
   "execution_count": 20,
   "id": "925245aa",
   "metadata": {},
   "outputs": [],
   "source": [
    "game.new_episode()"
   ]
  },
  {
   "cell_type": "code",
   "execution_count": 21,
   "id": "ea9a29df",
   "metadata": {},
   "outputs": [
    {
     "data": {
      "text/plain": [
       "False"
      ]
     },
     "execution_count": 21,
     "metadata": {},
     "output_type": "execute_result"
    }
   ],
   "source": [
    "game.is_episode_finished()"
   ]
  },
  {
   "cell_type": "code",
   "execution_count": 22,
   "id": "b1059932",
   "metadata": {},
   "outputs": [
    {
     "data": {
      "text/plain": [
       "(3, 240, 320)"
      ]
     },
     "execution_count": 22,
     "metadata": {},
     "output_type": "execute_result"
    }
   ],
   "source": [
    "game.get_state().screen_buffer.shape"
   ]
  },
  {
   "cell_type": "code",
   "execution_count": 23,
   "id": "599f8cab",
   "metadata": {},
   "outputs": [],
   "source": [
    "state = game.get_state()"
   ]
  },
  {
   "cell_type": "code",
   "execution_count": null,
   "id": "7b687a39",
   "metadata": {},
   "outputs": [],
   "source": [
    "# Loop to run through episodes (basic level) \n",
    "# Untrained - Random Actions\n",
    "\n",
    "episodes = 10 # Play 10 games\n",
    "for episode in range(episodes):\n",
    "    game.new_episode() # Start from scratch\n",
    "    while not game.is_episode_finished(): # Check if game is finished\n",
    "        state = game.get_state() # Get current frame / game state\n",
    "        img = state.screen_buffer # Get specific image\n",
    "        info = state.game_variables # Get info on game state=\n",
    "        # Take random action and assoicate that with reward \n",
    "        # Can add frame skip param to speed up \n",
    "        reward = game.make_action(random.choice(actions)) \n",
    "        print('Reward:', reward)\n",
    "        time.sleep(0.002) # Take brief break before exiting while loop and printing game result\n",
    "    print('Result:', game.get_total_reward())\n",
    "    time.sleep(2) # Sleep 2 seconds before next iteration in for loop"
   ]
  },
  {
   "cell_type": "code",
   "execution_count": 24,
   "id": "1068366f",
   "metadata": {},
   "outputs": [],
   "source": [
    "game.close()"
   ]
  },
  {
   "cell_type": "markdown",
   "id": "aa1d0345",
   "metadata": {},
   "source": [
    "## 2. Convert game to OpenAI Gym enviornment"
   ]
  },
  {
   "cell_type": "code",
   "execution_count": 10,
   "id": "34d129df",
   "metadata": {},
   "outputs": [],
   "source": [
    "from gym import Env # Base class enviornment from OpenAI Gym\n",
    "from gym.spaces import Discrete, Box # Allows us to define shapes from our enviornments\n",
    "import cv2 # Allows for computer vision"
   ]
  },
  {
   "cell_type": "markdown",
   "id": "12464873",
   "metadata": {},
   "source": [
    "#### Testing Box and Discrete"
   ]
  },
  {
   "cell_type": "code",
   "execution_count": 11,
   "id": "78eb1a4f",
   "metadata": {},
   "outputs": [
    {
     "data": {
      "text/plain": [
       "array([[ 7,  6,  1,  2,  6, 10,  3,  3,  7,  3],\n",
       "       [ 1,  8, 10,  9,  8,  6,  3,  2,  0,  0],\n",
       "       [ 9,  5,  2,  2,  6,  9,  8,  5, 10,  0],\n",
       "       [ 8,  1,  6,  9, 10,  6,  9,  0,  5,  2],\n",
       "       [ 8,  6, 10,  6,  6,  6, 10,  1,  6,  3],\n",
       "       [ 0,  7, 10,  6,  2,  4,  6,  6,  0,  3],\n",
       "       [ 3,  4,  0,  5, 10,  5,  7,  3,  0,  7],\n",
       "       [ 1,  7,  3,  7,  6,  3,  8,  3,  2,  3],\n",
       "       [ 1,  3,  8,  1,  0,  4,  5,  1,  9,  6],\n",
       "       [ 2,  0,  5,  7,  2,  9,  2,  8,  3,  2]], dtype=uint8)"
      ]
     },
     "execution_count": 11,
     "metadata": {},
     "output_type": "execute_result"
    }
   ],
   "source": [
    "Box(low=0, high=10, shape=(10,10), dtype=np.uint8).sample()"
   ]
  },
  {
   "cell_type": "code",
   "execution_count": 12,
   "id": "030b0f77",
   "metadata": {},
   "outputs": [
    {
     "data": {
      "text/plain": [
       "2"
      ]
     },
     "execution_count": 12,
     "metadata": {},
     "output_type": "execute_result"
    }
   ],
   "source": [
    "Discrete(3).sample()"
   ]
  },
  {
   "cell_type": "code",
   "execution_count": 13,
   "id": "f474af57",
   "metadata": {},
   "outputs": [
    {
     "data": {
      "text/plain": [
       "array([0, 1, 0], dtype=uint8)"
      ]
     },
     "execution_count": 13,
     "metadata": {},
     "output_type": "execute_result"
    }
   ],
   "source": [
    "actions[Discrete(3).sample()]"
   ]
  },
  {
   "cell_type": "markdown",
   "id": "122bd119",
   "metadata": {},
   "source": [
    "#### Define vizDoom Enviornment Class"
   ]
  },
  {
   "cell_type": "code",
   "execution_count": 25,
   "id": "5fadf5ff",
   "metadata": {},
   "outputs": [],
   "source": [
    "class VizDoomGym(Env):\n",
    "    \n",
    "    # Function called at initialization(start) of Env\n",
    "    def __init__(self, render=False):\n",
    "        # Inherit from Env\n",
    "        super().__init__()\n",
    "        # Set up game\n",
    "        self.game = DoomGame() # Define game\n",
    "        # Load Game configuration; able to change\n",
    "        self.game.load_config('ViZDoom-master/ViZDoom-master/scenarios/defend_the_center.cfg') \n",
    "        \n",
    "        # Define whether or not to render the game - Rendering hinders training speed\n",
    "        # Render frame logic\n",
    "        if render == False:\n",
    "            self.game.set_window_visible(False)\n",
    "        else:\n",
    "            self.game.set_window_visible(True)\n",
    "        \n",
    "        # Initial Game (Start Game)\n",
    "        self.game.init() \n",
    "        \n",
    "        # Create and define observation and activation space for game\n",
    "        self.observation_space = Box(low=0, high=255, shape=(100,160,1), dtype=np.uint8)\n",
    "        self.action_space = Discrete(3)\n",
    "    \n",
    "    # Function - how we take steps in enviornment\n",
    "    def step(self, action):\n",
    "        # Specify action and take step\n",
    "        actions = np.identity(3, dtype=np.uint8) # Define actions\n",
    "        reward = self.game.make_action(actions[action], 4) # Define reward based on action\n",
    "        \n",
    "        # Get and return relevent game information, variables\n",
    "        if self.game.get_state(): \n",
    "            state = self.game.get_state().screen_buffer # Define current game state\n",
    "            state = self.grayscale(state) # Apply gray scale to step function\n",
    "            ammo = self.game.get_state().game_variables[0] # Return ammo game variables\n",
    "            info = ammo\n",
    "        else:\n",
    "            state = np.zeros(self.observation_space.shape)\n",
    "            info = 0\n",
    "        \n",
    "        info = {\"info\":info}\n",
    "        done = self.game.is_episode_finished() # Determine whether game is finsihed\n",
    "        \n",
    "        return state, reward, done, info\n",
    "    \n",
    "    # Don't need to define render function - predefined in vizDoom\n",
    "    # Normally, the function to render a game / enviornment\n",
    "    def render():\n",
    "        pass\n",
    "    \n",
    "    # Function - what happens when new game is started\n",
    "    def reset(self):\n",
    "        self.game.new_episode() # Start new game\n",
    "        state = self.game.get_state().screen_buffer\n",
    "        return self.grayscale(state) # Apply grayscale to reset function\n",
    "    \n",
    "    # Function - grayscale and resize game frame\n",
    "    def grayscale(self, observation):\n",
    "        # Concert to grayscale\n",
    "        gray = cv2.cvtColor(np.moveaxis(observation, 0, -1), cv2.COLOR_BGR2GRAY)\n",
    "        # Resize to remove bottom info bar from game observation\n",
    "        resize = cv2.resize(gray, (160,100), interpolation=cv2.INTER_CUBIC)\n",
    "        state = np.reshape(resize, (100,160,1))\n",
    "        return state\n",
    "     \n",
    "    # Function - Call to close down game\n",
    "    def close(self):\n",
    "        self.game.close()"
   ]
  },
  {
   "cell_type": "markdown",
   "id": "bf596719",
   "metadata": {},
   "source": [
    "#### Test enviornment and return relevant information"
   ]
  },
  {
   "cell_type": "code",
   "execution_count": 34,
   "id": "f6f12e3b",
   "metadata": {},
   "outputs": [],
   "source": [
    "env = VizDoomGym(render=False)"
   ]
  },
  {
   "cell_type": "code",
   "execution_count": 35,
   "id": "b629830c",
   "metadata": {},
   "outputs": [
    {
     "data": {
      "text/plain": [
       "(100, 160, 1)"
      ]
     },
     "execution_count": 35,
     "metadata": {},
     "output_type": "execute_result"
    }
   ],
   "source": [
    "env.observation_space.sample().shape"
   ]
  },
  {
   "cell_type": "code",
   "execution_count": 36,
   "id": "03c545be",
   "metadata": {},
   "outputs": [
    {
     "data": {
      "text/plain": [
       "Discrete(3)"
      ]
     },
     "execution_count": 36,
     "metadata": {},
     "output_type": "execute_result"
    }
   ],
   "source": [
    "env.action_space"
   ]
  },
  {
   "cell_type": "markdown",
   "id": "7481e3f7",
   "metadata": {},
   "source": [
    "## 3. View State"
   ]
  },
  {
   "cell_type": "code",
   "execution_count": 37,
   "id": "d7fe14a4",
   "metadata": {},
   "outputs": [],
   "source": [
    "state = env.reset()"
   ]
  },
  {
   "cell_type": "code",
   "execution_count": 38,
   "id": "c7bcf1a0",
   "metadata": {},
   "outputs": [
    {
     "data": {
      "text/plain": [
       "<matplotlib.image.AxesImage at 0x21a486d7d30>"
      ]
     },
     "execution_count": 38,
     "metadata": {},
     "output_type": "execute_result"
    },
    {
     "data": {
      "image/png": "[encoded data removed]",
      "text/plain": [
       "<Figure size 432x288 with 1 Axes>"
      ]
     },
     "metadata": {
      "needs_background": "light"
     },
     "output_type": "display_data"
    }
   ],
   "source": [
    "plt.imshow(cv2.cvtColor(state, cv2.COLOR_BGR2RGB))"
   ]
  },
  {
   "cell_type": "code",
   "execution_count": 40,
   "id": "6033005c",
   "metadata": {},
   "outputs": [],
   "source": [
    "env.close()"
   ]
  },
  {
   "cell_type": "code",
   "execution_count": 32,
   "id": "9fcf74b4",
   "metadata": {},
   "outputs": [],
   "source": [
    "# Import enviornment checker\n",
    "from stable_baselines3.common import env_checker"
   ]
  },
  {
   "cell_type": "code",
   "execution_count": 39,
   "id": "922b336d",
   "metadata": {},
   "outputs": [],
   "source": [
    "# Check for valid env - no error is good\n",
    "env_checker.check_env(env)"
   ]
  },
  {
   "cell_type": "markdown",
   "id": "801a02e0",
   "metadata": {},
   "source": [
    "## 4. Setup Callback"
   ]
  },
  {
   "cell_type": "code",
   "execution_count": 41,
   "id": "d174e329",
   "metadata": {},
   "outputs": [],
   "source": [
    "# import necessary libraries\n",
    "import os\n",
    "from stable_baselines3.common.callbacks import BaseCallback"
   ]
  },
  {
   "cell_type": "code",
   "execution_count": 42,
   "id": "8bb7f5e4",
   "metadata": {},
   "outputs": [],
   "source": [
    "# Define class for training and logging callback\n",
    "class TrainAndLoggingCallback(BaseCallback):\n",
    "    \n",
    "    def __init__(self, check_freq, save_path, verbose=1):\n",
    "        super(TrainAndLoggingCallback, self).__init__(verbose)\n",
    "        self.check_freq = check_freq\n",
    "        self.save_path = save_path\n",
    "        \n",
    "    def _init_callback(self):\n",
    "        if self.save_path is not None:\n",
    "            os.makedirs(self.save_path, exist_ok=True)\n",
    "            \n",
    "    def _on_step(self):\n",
    "        if self.n_calls % self.check_freq == 0:\n",
    "            model_path = os.path.join(self.save_path, 'best_model_{}'.format(self.n_calls))\n",
    "            self.model.save(model_path)\n",
    "            \n",
    "        return True"
   ]
  },
  {
   "cell_type": "code",
   "execution_count": 43,
   "id": "eab2067d",
   "metadata": {},
   "outputs": [],
   "source": [
    "# Dirs for saving trained RL models\n",
    "CHECKPOINT_DIR = './train/train_defend_the_center'\n",
    "LOG_DIR = './logs/log_defend_the_center'"
   ]
  },
  {
   "cell_type": "code",
   "execution_count": 44,
   "id": "d0d8a649",
   "metadata": {},
   "outputs": [],
   "source": [
    "# Create instance of train and logging callback - save pytorch model every 10,000 steps\n",
    "callback = TrainAndLoggingCallback(check_freq=10000, save_path=CHECKPOINT_DIR)"
   ]
  },
  {
   "cell_type": "markdown",
   "id": "dad521ff",
   "metadata": {},
   "source": [
    "## 5. Train Reinforcement Learning Model"
   ]
  },
  {
   "cell_type": "code",
   "execution_count": 45,
   "id": "d230d3f6",
   "metadata": {},
   "outputs": [],
   "source": [
    "# Import ppo for training\n",
    "from stable_baselines3 import PPO"
   ]
  },
  {
   "cell_type": "code",
   "execution_count": 46,
   "id": "1a63343d",
   "metadata": {},
   "outputs": [],
   "source": [
    "# Create non rendered enviornment\n",
    "env = VizDoomGym()"
   ]
  },
  {
   "cell_type": "code",
   "execution_count": 47,
   "id": "cdff7347",
   "metadata": {},
   "outputs": [
    {
     "name": "stdout",
     "output_type": "stream",
     "text": [
      "Using cpu device\n",
      "Wrapping the env with a `Monitor` wrapper\n",
      "Wrapping the env in a DummyVecEnv.\n",
      "Wrapping the env in a VecTransposeImage.\n"
     ]
    }
   ],
   "source": [
    "# Define model and policy \n",
    "model = PPO('CnnPolicy', env, tensorboard_log=LOG_DIR, verbose=1, learning_rate=0.0001, n_steps=4096)"
   ]
  },
  {
   "cell_type": "code",
   "execution_count": 48,
   "id": "6d537852",
   "metadata": {},
   "outputs": [
    {
     "name": "stdout",
     "output_type": "stream",
     "text": [
      "Logging to ./logs/log_defend_the_center\\PPO_1\n",
      "---------------------------------\n",
      "| rollout/           |          |\n",
      "|    ep_len_mean     | 82       |\n",
      "|    ep_rew_mean     | 0.286    |\n",
      "| time/              |          |\n",
      "|    fps             | 46       |\n",
      "|    iterations      | 1        |\n",
      "|    time_elapsed    | 89       |\n",
      "|    total_timesteps | 4096     |\n",
      "---------------------------------\n",
      "---------------------------------------\n",
      "| rollout/                |           |\n",
      "|    ep_len_mean          | 87.1      |\n",
      "|    ep_rew_mean          | 0.645     |\n",
      "| time/                   |           |\n",
      "|    fps                  | 37        |\n",
      "|    iterations           | 2         |\n",
      "|    time_elapsed         | 219       |\n",
      "|    total_timesteps      | 8192      |\n",
      "| train/                  |           |\n",
      "|    approx_kl            | 0.0113112 |\n",
      "|    clip_fraction        | 0.116     |\n",
      "|    clip_range           | 0.2       |\n",
      "|    entropy_loss         | -1.09     |\n",
      "|    explained_variance   | -0.016    |\n",
      "|    learning_rate        | 0.0001    |\n",
      "|    loss                 | 0.0422    |\n",
      "|    n_updates            | 10        |\n",
      "|    policy_gradient_loss | -0.00865  |\n",
      "|    value_loss           | 0.108     |\n",
      "---------------------------------------\n",
      "-----------------------------------------\n",
      "| rollout/                |             |\n",
      "|    ep_len_mean          | 94.7        |\n",
      "|    ep_rew_mean          | 1.32        |\n",
      "| time/                   |             |\n",
      "|    fps                  | 35          |\n",
      "|    iterations           | 3           |\n",
      "|    time_elapsed         | 350         |\n",
      "|    total_timesteps      | 12288       |\n",
      "| train/                  |             |\n",
      "|    approx_kl            | 0.011645645 |\n",
      "|    clip_fraction        | 0.153       |\n",
      "|    clip_range           | 0.2         |\n",
      "|    entropy_loss         | -1.06       |\n",
      "|    explained_variance   | 0.365       |\n",
      "|    learning_rate        | 0.0001      |\n",
      "|    loss                 | 0.0154      |\n",
      "|    n_updates            | 20          |\n",
      "|    policy_gradient_loss | -0.0179     |\n",
      "|    value_loss           | 0.114       |\n",
      "-----------------------------------------\n",
      "-----------------------------------------\n",
      "| rollout/                |             |\n",
      "|    ep_len_mean          | 102         |\n",
      "|    ep_rew_mean          | 1.98        |\n",
      "| time/                   |             |\n",
      "|    fps                  | 35          |\n",
      "|    iterations           | 4           |\n",
      "|    time_elapsed         | 464         |\n",
      "|    total_timesteps      | 16384       |\n",
      "| train/                  |             |\n",
      "|    approx_kl            | 0.012751445 |\n",
      "|    clip_fraction        | 0.155       |\n",
      "|    clip_range           | 0.2         |\n",
      "|    entropy_loss         | -1.03       |\n",
      "|    explained_variance   | 0.377       |\n",
      "|    learning_rate        | 0.0001      |\n",
      "|    loss                 | -0.0161     |\n",
      "|    n_updates            | 30          |\n",
      "|    policy_gradient_loss | -0.0291     |\n",
      "|    value_loss           | 0.142       |\n",
      "-----------------------------------------\n",
      "-----------------------------------------\n",
      "| rollout/                |             |\n",
      "|    ep_len_mean          | 107         |\n",
      "|    ep_rew_mean          | 2.62        |\n",
      "| time/                   |             |\n",
      "|    fps                  | 34          |\n",
      "|    iterations           | 5           |\n",
      "|    time_elapsed         | 588         |\n",
      "|    total_timesteps      | 20480       |\n",
      "| train/                  |             |\n",
      "|    approx_kl            | 0.013901959 |\n",
      "|    clip_fraction        | 0.174       |\n",
      "|    clip_range           | 0.2         |\n",
      "|    entropy_loss         | -1          |\n",
      "|    explained_variance   | 0.607       |\n",
      "|    learning_rate        | 0.0001      |\n",
      "|    loss                 | -0.0265     |\n",
      "|    n_updates            | 40          |\n",
      "|    policy_gradient_loss | -0.0357     |\n",
      "|    value_loss           | 0.128       |\n",
      "-----------------------------------------\n",
      "-----------------------------------------\n",
      "| rollout/                |             |\n",
      "|    ep_len_mean          | 109         |\n",
      "|    ep_rew_mean          | 3.07        |\n",
      "| time/                   |             |\n",
      "|    fps                  | 33          |\n",
      "|    iterations           | 6           |\n",
      "|    time_elapsed         | 724         |\n",
      "|    total_timesteps      | 24576       |\n",
      "| train/                  |             |\n",
      "|    approx_kl            | 0.017436996 |\n",
      "|    clip_fraction        | 0.162       |\n",
      "|    clip_range           | 0.2         |\n",
      "|    entropy_loss         | -0.984      |\n",
      "|    explained_variance   | 0.691       |\n",
      "|    learning_rate        | 0.0001      |\n",
      "|    loss                 | -0.0108     |\n",
      "|    n_updates            | 50          |\n",
      "|    policy_gradient_loss | -0.0382     |\n",
      "|    value_loss           | 0.131       |\n",
      "-----------------------------------------\n",
      "-----------------------------------------\n",
      "| rollout/                |             |\n",
      "|    ep_len_mean          | 111         |\n",
      "|    ep_rew_mean          | 3.49        |\n",
      "| time/                   |             |\n",
      "|    fps                  | 33          |\n",
      "|    iterations           | 7           |\n",
      "|    time_elapsed         | 854         |\n",
      "|    total_timesteps      | 28672       |\n",
      "| train/                  |             |\n",
      "|    approx_kl            | 0.020841181 |\n",
      "|    clip_fraction        | 0.195       |\n",
      "|    clip_range           | 0.2         |\n",
      "|    entropy_loss         | -0.944      |\n",
      "|    explained_variance   | 0.738       |\n",
      "|    learning_rate        | 0.0001      |\n",
      "|    loss                 | -0.0327     |\n",
      "|    n_updates            | 60          |\n",
      "|    policy_gradient_loss | -0.0427     |\n",
      "|    value_loss           | 0.134       |\n",
      "-----------------------------------------\n",
      "-----------------------------------------\n",
      "| rollout/                |             |\n",
      "|    ep_len_mean          | 116         |\n",
      "|    ep_rew_mean          | 4.01        |\n",
      "| time/                   |             |\n",
      "|    fps                  | 33          |\n",
      "|    iterations           | 8           |\n",
      "|    time_elapsed         | 973         |\n",
      "|    total_timesteps      | 32768       |\n",
      "| train/                  |             |\n",
      "|    approx_kl            | 0.018929042 |\n",
      "|    clip_fraction        | 0.191       |\n",
      "|    clip_range           | 0.2         |\n",
      "|    entropy_loss         | -0.899      |\n",
      "|    explained_variance   | 0.686       |\n",
      "|    learning_rate        | 0.0001      |\n",
      "|    loss                 | 0.00988     |\n",
      "|    n_updates            | 70          |\n",
      "|    policy_gradient_loss | -0.0429     |\n",
      "|    value_loss           | 0.209       |\n",
      "-----------------------------------------\n",
      "-----------------------------------------\n",
      "| rollout/                |             |\n",
      "|    ep_len_mean          | 124         |\n",
      "|    ep_rew_mean          | 4.67        |\n",
      "| time/                   |             |\n",
      "|    fps                  | 33          |\n",
      "|    iterations           | 9           |\n",
      "|    time_elapsed         | 1086        |\n",
      "|    total_timesteps      | 36864       |\n",
      "| train/                  |             |\n",
      "|    approx_kl            | 0.024163958 |\n",
      "|    clip_fraction        | 0.232       |\n",
      "|    clip_range           | 0.2         |\n",
      "|    entropy_loss         | -0.872      |\n",
      "|    explained_variance   | 0.73        |\n",
      "|    learning_rate        | 0.0001      |\n",
      "|    loss                 | -0.0268     |\n",
      "|    n_updates            | 80          |\n",
      "|    policy_gradient_loss | -0.0421     |\n",
      "|    value_loss           | 0.171       |\n",
      "-----------------------------------------\n",
      "----------------------------------------\n",
      "| rollout/                |            |\n",
      "|    ep_len_mean          | 130        |\n",
      "|    ep_rew_mean          | 5.22       |\n",
      "| time/                   |            |\n",
      "|    fps                  | 34         |\n",
      "|    iterations           | 10         |\n",
      "|    time_elapsed         | 1201       |\n",
      "|    total_timesteps      | 40960      |\n",
      "| train/                  |            |\n",
      "|    approx_kl            | 0.02126439 |\n",
      "|    clip_fraction        | 0.22       |\n",
      "|    clip_range           | 0.2        |\n",
      "|    entropy_loss         | -0.855     |\n",
      "|    explained_variance   | 0.783      |\n",
      "|    learning_rate        | 0.0001     |\n",
      "|    loss                 | -0.0356    |\n",
      "|    n_updates            | 90         |\n",
      "|    policy_gradient_loss | -0.0425    |\n",
      "|    value_loss           | 0.166      |\n",
      "----------------------------------------\n"
     ]
    },
    {
     "name": "stdout",
     "output_type": "stream",
     "text": [
      "-----------------------------------------\n",
      "| rollout/                |             |\n",
      "|    ep_len_mean          | 133         |\n",
      "|    ep_rew_mean          | 5.63        |\n",
      "| time/                   |             |\n",
      "|    fps                  | 33          |\n",
      "|    iterations           | 11          |\n",
      "|    time_elapsed         | 1336        |\n",
      "|    total_timesteps      | 45056       |\n",
      "| train/                  |             |\n",
      "|    approx_kl            | 0.022124935 |\n",
      "|    clip_fraction        | 0.213       |\n",
      "|    clip_range           | 0.2         |\n",
      "|    entropy_loss         | -0.8        |\n",
      "|    explained_variance   | 0.819       |\n",
      "|    learning_rate        | 0.0001      |\n",
      "|    loss                 | -0.0076     |\n",
      "|    n_updates            | 100         |\n",
      "|    policy_gradient_loss | -0.0411     |\n",
      "|    value_loss           | 0.176       |\n",
      "-----------------------------------------\n",
      "-----------------------------------------\n",
      "| rollout/                |             |\n",
      "|    ep_len_mean          | 140         |\n",
      "|    ep_rew_mean          | 6.17        |\n",
      "| time/                   |             |\n",
      "|    fps                  | 33          |\n",
      "|    iterations           | 12          |\n",
      "|    time_elapsed         | 1459        |\n",
      "|    total_timesteps      | 49152       |\n",
      "| train/                  |             |\n",
      "|    approx_kl            | 0.026875287 |\n",
      "|    clip_fraction        | 0.228       |\n",
      "|    clip_range           | 0.2         |\n",
      "|    entropy_loss         | -0.755      |\n",
      "|    explained_variance   | 0.848       |\n",
      "|    learning_rate        | 0.0001      |\n",
      "|    loss                 | -0.0116     |\n",
      "|    n_updates            | 110         |\n",
      "|    policy_gradient_loss | -0.0444     |\n",
      "|    value_loss           | 0.156       |\n",
      "-----------------------------------------\n",
      "-----------------------------------------\n",
      "| rollout/                |             |\n",
      "|    ep_len_mean          | 146         |\n",
      "|    ep_rew_mean          | 6.65        |\n",
      "| time/                   |             |\n",
      "|    fps                  | 33          |\n",
      "|    iterations           | 13          |\n",
      "|    time_elapsed         | 1586        |\n",
      "|    total_timesteps      | 53248       |\n",
      "| train/                  |             |\n",
      "|    approx_kl            | 0.025600065 |\n",
      "|    clip_fraction        | 0.237       |\n",
      "|    clip_range           | 0.2         |\n",
      "|    entropy_loss         | -0.725      |\n",
      "|    explained_variance   | 0.882       |\n",
      "|    learning_rate        | 0.0001      |\n",
      "|    loss                 | -0.0285     |\n",
      "|    n_updates            | 120         |\n",
      "|    policy_gradient_loss | -0.0381     |\n",
      "|    value_loss           | 0.142       |\n",
      "-----------------------------------------\n",
      "----------------------------------------\n",
      "| rollout/                |            |\n",
      "|    ep_len_mean          | 151        |\n",
      "|    ep_rew_mean          | 6.94       |\n",
      "| time/                   |            |\n",
      "|    fps                  | 33         |\n",
      "|    iterations           | 14         |\n",
      "|    time_elapsed         | 1719       |\n",
      "|    total_timesteps      | 57344      |\n",
      "| train/                  |            |\n",
      "|    approx_kl            | 0.02655591 |\n",
      "|    clip_fraction        | 0.224      |\n",
      "|    clip_range           | 0.2        |\n",
      "|    entropy_loss         | -0.703     |\n",
      "|    explained_variance   | 0.892      |\n",
      "|    learning_rate        | 0.0001     |\n",
      "|    loss                 | -0.0134    |\n",
      "|    n_updates            | 130        |\n",
      "|    policy_gradient_loss | -0.0425    |\n",
      "|    value_loss           | 0.133      |\n",
      "----------------------------------------\n",
      "-----------------------------------------\n",
      "| rollout/                |             |\n",
      "|    ep_len_mean          | 154         |\n",
      "|    ep_rew_mean          | 7.29        |\n",
      "| time/                   |             |\n",
      "|    fps                  | 33          |\n",
      "|    iterations           | 15          |\n",
      "|    time_elapsed         | 1850        |\n",
      "|    total_timesteps      | 61440       |\n",
      "| train/                  |             |\n",
      "|    approx_kl            | 0.029523889 |\n",
      "|    clip_fraction        | 0.245       |\n",
      "|    clip_range           | 0.2         |\n",
      "|    entropy_loss         | -0.672      |\n",
      "|    explained_variance   | 0.905       |\n",
      "|    learning_rate        | 0.0001      |\n",
      "|    loss                 | 0.00699     |\n",
      "|    n_updates            | 140         |\n",
      "|    policy_gradient_loss | -0.0436     |\n",
      "|    value_loss           | 0.138       |\n",
      "-----------------------------------------\n",
      "----------------------------------------\n",
      "| rollout/                |            |\n",
      "|    ep_len_mean          | 159        |\n",
      "|    ep_rew_mean          | 7.51       |\n",
      "| time/                   |            |\n",
      "|    fps                  | 33         |\n",
      "|    iterations           | 16         |\n",
      "|    time_elapsed         | 1985       |\n",
      "|    total_timesteps      | 65536      |\n",
      "| train/                  |            |\n",
      "|    approx_kl            | 0.02733193 |\n",
      "|    clip_fraction        | 0.238      |\n",
      "|    clip_range           | 0.2        |\n",
      "|    entropy_loss         | -0.671     |\n",
      "|    explained_variance   | 0.909      |\n",
      "|    learning_rate        | 0.0001     |\n",
      "|    loss                 | -0.029     |\n",
      "|    n_updates            | 150        |\n",
      "|    policy_gradient_loss | -0.0392    |\n",
      "|    value_loss           | 0.138      |\n",
      "----------------------------------------\n",
      "-----------------------------------------\n",
      "| rollout/                |             |\n",
      "|    ep_len_mean          | 159         |\n",
      "|    ep_rew_mean          | 7.56        |\n",
      "| time/                   |             |\n",
      "|    fps                  | 32          |\n",
      "|    iterations           | 17          |\n",
      "|    time_elapsed         | 2118        |\n",
      "|    total_timesteps      | 69632       |\n",
      "| train/                  |             |\n",
      "|    approx_kl            | 0.033001203 |\n",
      "|    clip_fraction        | 0.25        |\n",
      "|    clip_range           | 0.2         |\n",
      "|    entropy_loss         | -0.699      |\n",
      "|    explained_variance   | 0.917       |\n",
      "|    learning_rate        | 0.0001      |\n",
      "|    loss                 | -0.0409     |\n",
      "|    n_updates            | 160         |\n",
      "|    policy_gradient_loss | -0.0427     |\n",
      "|    value_loss           | 0.13        |\n",
      "-----------------------------------------\n",
      "-----------------------------------------\n",
      "| rollout/                |             |\n",
      "|    ep_len_mean          | 162         |\n",
      "|    ep_rew_mean          | 7.98        |\n",
      "| time/                   |             |\n",
      "|    fps                  | 32          |\n",
      "|    iterations           | 18          |\n",
      "|    time_elapsed         | 2236        |\n",
      "|    total_timesteps      | 73728       |\n",
      "| train/                  |             |\n",
      "|    approx_kl            | 0.031728417 |\n",
      "|    clip_fraction        | 0.267       |\n",
      "|    clip_range           | 0.2         |\n",
      "|    entropy_loss         | -0.688      |\n",
      "|    explained_variance   | 0.93        |\n",
      "|    learning_rate        | 0.0001      |\n",
      "|    loss                 | -0.0266     |\n",
      "|    n_updates            | 170         |\n",
      "|    policy_gradient_loss | -0.0426     |\n",
      "|    value_loss           | 0.125       |\n",
      "-----------------------------------------\n",
      "----------------------------------------\n",
      "| rollout/                |            |\n",
      "|    ep_len_mean          | 172        |\n",
      "|    ep_rew_mean          | 8.58       |\n",
      "| time/                   |            |\n",
      "|    fps                  | 33         |\n",
      "|    iterations           | 19         |\n",
      "|    time_elapsed         | 2345       |\n",
      "|    total_timesteps      | 77824      |\n",
      "| train/                  |            |\n",
      "|    approx_kl            | 0.02683757 |\n",
      "|    clip_fraction        | 0.231      |\n",
      "|    clip_range           | 0.2        |\n",
      "|    entropy_loss         | -0.621     |\n",
      "|    explained_variance   | 0.917      |\n",
      "|    learning_rate        | 0.0001     |\n",
      "|    loss                 | -0.0087    |\n",
      "|    n_updates            | 180        |\n",
      "|    policy_gradient_loss | -0.0366    |\n",
      "|    value_loss           | 0.171      |\n",
      "----------------------------------------\n",
      "---------------------------------------\n",
      "| rollout/                |           |\n",
      "|    ep_len_mean          | 179       |\n",
      "|    ep_rew_mean          | 9.11      |\n",
      "| time/                   |           |\n",
      "|    fps                  | 33        |\n",
      "|    iterations           | 20        |\n",
      "|    time_elapsed         | 2456      |\n",
      "|    total_timesteps      | 81920     |\n",
      "| train/                  |           |\n",
      "|    approx_kl            | 0.0337409 |\n",
      "|    clip_fraction        | 0.243     |\n",
      "|    clip_range           | 0.2       |\n",
      "|    entropy_loss         | -0.6      |\n",
      "|    explained_variance   | 0.932     |\n",
      "|    learning_rate        | 0.0001    |\n",
      "|    loss                 | -0.0194   |\n",
      "|    n_updates            | 190       |\n",
      "|    policy_gradient_loss | -0.0448   |\n",
      "|    value_loss           | 0.108     |\n",
      "---------------------------------------\n"
     ]
    },
    {
     "name": "stdout",
     "output_type": "stream",
     "text": [
      "----------------------------------------\n",
      "| rollout/                |            |\n",
      "|    ep_len_mean          | 188        |\n",
      "|    ep_rew_mean          | 9.77       |\n",
      "| time/                   |            |\n",
      "|    fps                  | 33         |\n",
      "|    iterations           | 21         |\n",
      "|    time_elapsed         | 2567       |\n",
      "|    total_timesteps      | 86016      |\n",
      "| train/                  |            |\n",
      "|    approx_kl            | 0.03255917 |\n",
      "|    clip_fraction        | 0.226      |\n",
      "|    clip_range           | 0.2        |\n",
      "|    entropy_loss         | -0.546     |\n",
      "|    explained_variance   | 0.937      |\n",
      "|    learning_rate        | 0.0001     |\n",
      "|    loss                 | -0.0112    |\n",
      "|    n_updates            | 200        |\n",
      "|    policy_gradient_loss | -0.0399    |\n",
      "|    value_loss           | 0.121      |\n",
      "----------------------------------------\n",
      "-----------------------------------------\n",
      "| rollout/                |             |\n",
      "|    ep_len_mean          | 194         |\n",
      "|    ep_rew_mean          | 10.2        |\n",
      "| time/                   |             |\n",
      "|    fps                  | 33          |\n",
      "|    iterations           | 22          |\n",
      "|    time_elapsed         | 2684        |\n",
      "|    total_timesteps      | 90112       |\n",
      "| train/                  |             |\n",
      "|    approx_kl            | 0.033181492 |\n",
      "|    clip_fraction        | 0.228       |\n",
      "|    clip_range           | 0.2         |\n",
      "|    entropy_loss         | -0.552      |\n",
      "|    explained_variance   | 0.939       |\n",
      "|    learning_rate        | 0.0001      |\n",
      "|    loss                 | -0.0246     |\n",
      "|    n_updates            | 210         |\n",
      "|    policy_gradient_loss | -0.0413     |\n",
      "|    value_loss           | 0.119       |\n",
      "-----------------------------------------\n",
      "-----------------------------------------\n",
      "| rollout/                |             |\n",
      "|    ep_len_mean          | 201         |\n",
      "|    ep_rew_mean          | 10.8        |\n",
      "| time/                   |             |\n",
      "|    fps                  | 33          |\n",
      "|    iterations           | 23          |\n",
      "|    time_elapsed         | 2816        |\n",
      "|    total_timesteps      | 94208       |\n",
      "| train/                  |             |\n",
      "|    approx_kl            | 0.031167937 |\n",
      "|    clip_fraction        | 0.227       |\n",
      "|    clip_range           | 0.2         |\n",
      "|    entropy_loss         | -0.53       |\n",
      "|    explained_variance   | 0.943       |\n",
      "|    learning_rate        | 0.0001      |\n",
      "|    loss                 | -0.0246     |\n",
      "|    n_updates            | 220         |\n",
      "|    policy_gradient_loss | -0.0419     |\n",
      "|    value_loss           | 0.106       |\n",
      "-----------------------------------------\n",
      "-----------------------------------------\n",
      "| rollout/                |             |\n",
      "|    ep_len_mean          | 197         |\n",
      "|    ep_rew_mean          | 10.7        |\n",
      "| time/                   |             |\n",
      "|    fps                  | 33          |\n",
      "|    iterations           | 24          |\n",
      "|    time_elapsed         | 2954        |\n",
      "|    total_timesteps      | 98304       |\n",
      "| train/                  |             |\n",
      "|    approx_kl            | 0.033870384 |\n",
      "|    clip_fraction        | 0.209       |\n",
      "|    clip_range           | 0.2         |\n",
      "|    entropy_loss         | -0.534      |\n",
      "|    explained_variance   | 0.946       |\n",
      "|    learning_rate        | 0.0001      |\n",
      "|    loss                 | -0.0262     |\n",
      "|    n_updates            | 230         |\n",
      "|    policy_gradient_loss | -0.0428     |\n",
      "|    value_loss           | 0.112       |\n",
      "-----------------------------------------\n",
      "----------------------------------------\n",
      "| rollout/                |            |\n",
      "|    ep_len_mean          | 194        |\n",
      "|    ep_rew_mean          | 10.6       |\n",
      "| time/                   |            |\n",
      "|    fps                  | 33         |\n",
      "|    iterations           | 25         |\n",
      "|    time_elapsed         | 3079       |\n",
      "|    total_timesteps      | 102400     |\n",
      "| train/                  |            |\n",
      "|    approx_kl            | 0.03452342 |\n",
      "|    clip_fraction        | 0.23       |\n",
      "|    clip_range           | 0.2        |\n",
      "|    entropy_loss         | -0.569     |\n",
      "|    explained_variance   | 0.947      |\n",
      "|    learning_rate        | 0.0001     |\n",
      "|    loss                 | -0.0497    |\n",
      "|    n_updates            | 240        |\n",
      "|    policy_gradient_loss | -0.0441    |\n",
      "|    value_loss           | 0.116      |\n",
      "----------------------------------------\n"
     ]
    },
    {
     "data": {
      "text/plain": [
       "<stable_baselines3.ppo.ppo.PPO at 0x21a3d6796d0>"
      ]
     },
     "execution_count": 48,
     "metadata": {},
     "output_type": "execute_result"
    }
   ],
   "source": [
    "# Train model\n",
    "model.learn(total_timesteps=100000, callback=callback)"
   ]
  },
  {
   "cell_type": "markdown",
   "id": "b9b1e2ed",
   "metadata": {},
   "source": [
    "## 6. Test Model"
   ]
  },
  {
   "cell_type": "code",
   "execution_count": 60,
   "id": "537dd228",
   "metadata": {},
   "outputs": [],
   "source": [
    "# import evaluation policy to test agent\n",
    "from stable_baselines3.common.evaluation import evaluate_policy\n",
    "import time"
   ]
  },
  {
   "cell_type": "code",
   "execution_count": 61,
   "id": "88b12759",
   "metadata": {},
   "outputs": [],
   "source": [
    "# Reload model from disc drive\n",
    "model = PPO.load('./train/train_defend_the_center/best_model_100000')"
   ]
  },
  {
   "cell_type": "code",
   "execution_count": 62,
   "id": "ed3ff720",
   "metadata": {},
   "outputs": [],
   "source": [
    "# Create rendered enviornment\n",
    "env = VizDoomGym(render=True)"
   ]
  },
  {
   "cell_type": "code",
   "execution_count": 56,
   "id": "ae43020a",
   "metadata": {},
   "outputs": [],
   "source": [
    "# Evaluate mean reward for 10 games\n",
    "mean_reward, _ = evaluate_policy(model, env, n_eval_episodes=10)"
   ]
  },
  {
   "cell_type": "code",
   "execution_count": 57,
   "id": "09223eb3",
   "metadata": {},
   "outputs": [
    {
     "data": {
      "text/plain": [
       "12.0"
      ]
     },
     "execution_count": 57,
     "metadata": {},
     "output_type": "execute_result"
    }
   ],
   "source": [
    "# Display mean reward\n",
    "mean_reward"
   ]
  },
  {
   "cell_type": "code",
   "execution_count": 63,
   "id": "c2d887c0",
   "metadata": {},
   "outputs": [
    {
     "name": "stdout",
     "output_type": "stream",
     "text": [
      "Total Reward for episode 0 is 12.0\n",
      "Total Reward for episode 1 is 13.0\n",
      "Total Reward for episode 2 is 14.0\n",
      "Total Reward for episode 3 is 11.0\n",
      "Total Reward for episode 4 is 11.0\n",
      "Total Reward for episode 5 is 12.0\n",
      "Total Reward for episode 6 is 11.0\n",
      "Total Reward for episode 7 is 11.0\n",
      "Total Reward for episode 8 is 13.0\n",
      "Total Reward for episode 9 is 9.0\n"
     ]
    }
   ],
   "source": [
    "# Loop to test agent without using evaluate_policy\n",
    "for episode in range(10): \n",
    "    obs = env.reset() # observations\n",
    "    done = False # havent completed\n",
    "    total_reward = 0 \n",
    "    while not done: \n",
    "        action, _ = model.predict(obs) # get action\n",
    "        obs, reward, done, info = env.step(action) # pass into env step function\n",
    "        #time.sleep(0.20)\n",
    "        total_reward += reward # update reward\n",
    "    print('Total Reward for episode {} is {}'.format(episode, total_reward))"
   ]
  },
  {
   "cell_type": "code",
   "execution_count": 64,
   "id": "cb140c2a",
   "metadata": {},
   "outputs": [],
   "source": [
    "env.close()"
   ]
  }
 ],
 "metadata": {
  "kernelspec": {
   "display_name": "Python 3 (ipykernel)",
   "language": "python",
   "name": "python3"
  },
  "language_info": {
   "codemirror_mode": {
    "name": "ipython",
    "version": 3
   },
   "file_extension": ".py",
   "mimetype": "text/x-python",
   "name": "python",
   "nbconvert_exporter": "python",
   "pygments_lexer": "ipython3",
   "version": "3.9.12"
  }
 },
 "nbformat": 4,
 "nbformat_minor": 5
}
