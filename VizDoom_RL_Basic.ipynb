{
 "cells": [
  {
   "cell_type": "markdown",
   "id": "fed6acd5",
   "metadata": {},
   "source": [
    "# Doom Playing Reinforcement Learning Model - Basic Level"
   ]
  },
  {
   "cell_type": "markdown",
   "id": "abd68ef7",
   "metadata": {},
   "source": [
    "## 1. Prepare Enviorment"
   ]
  },
  {
   "cell_type": "code",
   "execution_count": 70,
   "id": "76b8a599",
   "metadata": {},
   "outputs": [],
   "source": [
    "# To install viz doom\n",
    "# !pip install vizdoom\n",
    "\n",
    "# Clone the VizDoom GitHub repo from this URL\n",
    "# https://github.com/mwydmuch/ViZDoom"
   ]
  },
  {
   "cell_type": "code",
   "execution_count": 71,
   "id": "2dffe39a",
   "metadata": {},
   "outputs": [],
   "source": [
    "# Import necessary Libraries\n",
    "import random # allows for action sampling\n",
    "import time # # allows for sleeping between frames\n",
    "import numpy as np # import for identity array matrix\n",
    "from vizdoom import * # import for game enviornment\n",
    "from matplotlib import pyplot as plt # import for vizualizations"
   ]
  },
  {
   "cell_type": "code",
   "execution_count": 72,
   "id": "6179077d",
   "metadata": {},
   "outputs": [],
   "source": [
    "game = DoomGame() # Define game\n",
    "game.load_config('ViZDoom-master/ViZDoom-master/scenarios/basic.cfg') # Load Game configuration\n",
    "game.init() # Initial Game "
   ]
  },
  {
   "cell_type": "code",
   "execution_count": 73,
   "id": "04184ce1",
   "metadata": {},
   "outputs": [],
   "source": [
    "# Set of possible actions in current Doom game enviornment\n",
    "actions = np.identity(3, dtype=np.uint8)"
   ]
  },
  {
   "cell_type": "markdown",
   "id": "0848e41e",
   "metadata": {},
   "source": [
    "#### Start new game episode"
   ]
  },
  {
   "cell_type": "code",
   "execution_count": 74,
   "id": "925245aa",
   "metadata": {},
   "outputs": [],
   "source": [
    "game.new_episode()"
   ]
  },
  {
   "cell_type": "code",
   "execution_count": 75,
   "id": "ea9a29df",
   "metadata": {},
   "outputs": [
    {
     "data": {
      "text/plain": [
       "False"
      ]
     },
     "execution_count": 75,
     "metadata": {},
     "output_type": "execute_result"
    }
   ],
   "source": [
    "game.is_episode_finished()"
   ]
  },
  {
   "cell_type": "code",
   "execution_count": 76,
   "id": "b1059932",
   "metadata": {},
   "outputs": [
    {
     "data": {
      "text/plain": [
       "(3, 240, 320)"
      ]
     },
     "execution_count": 76,
     "metadata": {},
     "output_type": "execute_result"
    }
   ],
   "source": [
    "game.get_state().screen_buffer.shape"
   ]
  },
  {
   "cell_type": "code",
   "execution_count": 77,
   "id": "599f8cab",
   "metadata": {},
   "outputs": [],
   "source": [
    "state = game.get_state()"
   ]
  },
  {
   "cell_type": "code",
   "execution_count": null,
   "id": "7b687a39",
   "metadata": {},
   "outputs": [],
   "source": [
    "# Loop to run through episodes (basic level)\n",
    "\n",
    "episodes = 10 # Play 10 games\n",
    "for episode in range(episodes):\n",
    "    game.new_episode() # Start from scratch\n",
    "    while not game.is_episode_finished(): # Check if game is finished\n",
    "        state = game.get_state() # Get current frame / game state\n",
    "        img = state.screen_buffer # Get specific image\n",
    "        info = state.game_variables # Get info on game state=\n",
    "        # Take random action and assoicate that with reward \n",
    "        # Can add frame skip param to speed up \n",
    "        reward = game.make_action(random.choice(actions)) \n",
    "        print('Reward:', reward)\n",
    "        time.sleep(0.002) # Take brief break before exiting while loop and printing game result\n",
    "    print('Result:', game.get_total_reward())\n",
    "    time.sleep(2) # Sleep 2 seconds before next iteration in for loop"
   ]
  },
  {
   "cell_type": "code",
   "execution_count": 78,
   "id": "1068366f",
   "metadata": {},
   "outputs": [],
   "source": [
    "game.close()"
   ]
  },
  {
   "cell_type": "markdown",
   "id": "aa1d0345",
   "metadata": {},
   "source": [
    "## 2. Convert game to OpenAI Gym enviornment"
   ]
  },
  {
   "cell_type": "code",
   "execution_count": 79,
   "id": "34d129df",
   "metadata": {},
   "outputs": [],
   "source": [
    "from gym import Env # Base class enviornment from OpenAI Gym\n",
    "from gym.spaces import Discrete, Box # Allows us to define shapes from our enviornments\n",
    "import cv2 # Allows for computer vision"
   ]
  },
  {
   "cell_type": "markdown",
   "id": "12464873",
   "metadata": {},
   "source": [
    "#### Testing Box and Discrete"
   ]
  },
  {
   "cell_type": "code",
   "execution_count": 80,
   "id": "78eb1a4f",
   "metadata": {},
   "outputs": [
    {
     "data": {
      "text/plain": [
       "array([[ 0,  6,  2,  7,  4,  5,  2,  2,  2,  0],\n",
       "       [ 2,  9,  0,  8,  9,  6,  4,  0,  5,  5],\n",
       "       [ 6,  7,  0,  0,  1,  9,  9,  3,  4,  0],\n",
       "       [ 9,  4, 10,  4,  6,  7,  1,  9,  8,  3],\n",
       "       [ 1,  3,  9,  2, 10,  6,  8,  7,  4,  6],\n",
       "       [ 4,  9,  8,  5,  2,  6,  3,  1,  7,  8],\n",
       "       [ 2,  7,  7, 10,  4,  6,  2,  3,  8,  6],\n",
       "       [ 7,  7,  4,  3,  6,  3,  9,  7,  0,  2],\n",
       "       [ 2,  6, 10,  0,  8,  9, 10,  4, 10,  6],\n",
       "       [10,  7,  1,  2,  7,  3,  8,  0,  5,  2]], dtype=uint8)"
      ]
     },
     "execution_count": 80,
     "metadata": {},
     "output_type": "execute_result"
    }
   ],
   "source": [
    "Box(low=0, high=10, shape=(10,10), dtype=np.uint8).sample()"
   ]
  },
  {
   "cell_type": "code",
   "execution_count": 81,
   "id": "030b0f77",
   "metadata": {},
   "outputs": [
    {
     "data": {
      "text/plain": [
       "1"
      ]
     },
     "execution_count": 81,
     "metadata": {},
     "output_type": "execute_result"
    }
   ],
   "source": [
    "Discrete(3).sample()"
   ]
  },
  {
   "cell_type": "code",
   "execution_count": 82,
   "id": "f474af57",
   "metadata": {},
   "outputs": [
    {
     "data": {
      "text/plain": [
       "array([0, 0, 1], dtype=uint8)"
      ]
     },
     "execution_count": 82,
     "metadata": {},
     "output_type": "execute_result"
    }
   ],
   "source": [
    "actions[Discrete(3).sample()]"
   ]
  },
  {
   "cell_type": "markdown",
   "id": "122bd119",
   "metadata": {},
   "source": [
    "#### Define vizDoom Enviornment Class"
   ]
  },
  {
   "cell_type": "code",
   "execution_count": 83,
   "id": "5fadf5ff",
   "metadata": {},
   "outputs": [],
   "source": [
    "class VizDoomGym(Env):\n",
    "    \n",
    "    # Function called at initialization(start) of Env\n",
    "    def __init__(self, render=False):\n",
    "        # Inherit from Env\n",
    "        super().__init__()\n",
    "        # Set up game\n",
    "        self.game = DoomGame() # Define game\n",
    "        # Load Game configuration; able to change\n",
    "        self.game.load_config('ViZDoom-master/ViZDoom-master/scenarios/basic.cfg') \n",
    "        \n",
    "        # Define whether or not to render the game - Rendering hinders training speed\n",
    "        # Render frame logic\n",
    "        if render == False:\n",
    "            self.game.set_window_visible(False)\n",
    "        else:\n",
    "            self.game.set_window_visible(True)\n",
    "        \n",
    "        # Initial Game (Start Game)\n",
    "        self.game.init() \n",
    "        \n",
    "        # Create and define observation and activation space for game\n",
    "        self.observation_space = Box(low=0, high=255, shape=(100,160,1), dtype=np.uint8)\n",
    "        self.action_space = Discrete(3)\n",
    "    \n",
    "    # Function - how we take steps in enviornment\n",
    "    def step(self, action):\n",
    "        # Specify action and take step\n",
    "        actions = np.identity(3, dtype=np.uint8) # Define actions\n",
    "        reward = self.game.make_action(actions[action], 4) # Define reward based on action\n",
    "        \n",
    "        # Get and return relevent game information, variables\n",
    "        if self.game.get_state(): \n",
    "            state = self.game.get_state().screen_buffer # Define current game state\n",
    "            state = self.grayscale(state) # Apply gray scale to step function\n",
    "            ammo = self.game.get_state().game_variables[0] # Return ammo game variables\n",
    "            info = ammo\n",
    "        else:\n",
    "            state = np.zeros(self.observation_space.shape)\n",
    "            info = 0\n",
    "        \n",
    "        info = {\"info\":info}\n",
    "        done = self.game.is_episode_finished() # Determine whether game is finsihed\n",
    "        \n",
    "        return state, reward, done, info\n",
    "    \n",
    "    # Don't need to define render function - predefined in vizDoom\n",
    "    # Normally, the function to render a game / enviornment\n",
    "    def render():\n",
    "        pass\n",
    "    \n",
    "    # Function - what happens when new game is started\n",
    "    def reset(self):\n",
    "        self.game.new_episode() # Start new game\n",
    "        state = self.game.get_state().screen_buffer\n",
    "        return self.grayscale(state) # Apply grayscale to reset function\n",
    "    \n",
    "    # Function - grayscale and resize game frame\n",
    "    def grayscale(self, observation):\n",
    "        # Concert to grayscale\n",
    "        gray = cv2.cvtColor(np.moveaxis(observation, 0, -1), cv2.COLOR_BGR2GRAY)\n",
    "        # Resize to remove bottom info bar from game observation\n",
    "        resize = cv2.resize(gray, (160,100), interpolation=cv2.INTER_CUBIC)\n",
    "        state = np.reshape(resize, (100,160,1))\n",
    "        return state\n",
    "     \n",
    "    # Function - Call to close down game\n",
    "    def close(self):\n",
    "        self.game.close()"
   ]
  },
  {
   "cell_type": "markdown",
   "id": "bf596719",
   "metadata": {},
   "source": [
    "#### Test enviornment and return relevant information"
   ]
  },
  {
   "cell_type": "code",
   "execution_count": 84,
   "id": "f6f12e3b",
   "metadata": {},
   "outputs": [],
   "source": [
    "env = VizDoomGym(render=False)"
   ]
  },
  {
   "cell_type": "code",
   "execution_count": 85,
   "id": "b629830c",
   "metadata": {},
   "outputs": [
    {
     "data": {
      "text/plain": [
       "(100, 160, 1)"
      ]
     },
     "execution_count": 85,
     "metadata": {},
     "output_type": "execute_result"
    }
   ],
   "source": [
    "env.observation_space.sample().shape"
   ]
  },
  {
   "cell_type": "code",
   "execution_count": 86,
   "id": "03c545be",
   "metadata": {},
   "outputs": [
    {
     "data": {
      "text/plain": [
       "Discrete(3)"
      ]
     },
     "execution_count": 86,
     "metadata": {},
     "output_type": "execute_result"
    }
   ],
   "source": [
    "env.action_space"
   ]
  },
  {
   "cell_type": "markdown",
   "id": "7481e3f7",
   "metadata": {},
   "source": [
    "## 3. View State"
   ]
  },
  {
   "cell_type": "code",
   "execution_count": 87,
   "id": "d7fe14a4",
   "metadata": {},
   "outputs": [],
   "source": [
    "state = env.reset()"
   ]
  },
  {
   "cell_type": "code",
   "execution_count": 88,
   "id": "c7bcf1a0",
   "metadata": {},
   "outputs": [
    {
     "data": {
      "text/plain": [
       "<matplotlib.image.AxesImage at 0x215b5043c40>"
      ]
     },
     "execution_count": 88,
     "metadata": {},
     "output_type": "execute_result"
    },
    {
     "data": {
      "image/png": "[encoded data removed]",
      "text/plain": [
       "<Figure size 432x288 with 1 Axes>"
      ]
     },
     "metadata": {
      "needs_background": "light"
     },
     "output_type": "display_data"
    }
   ],
   "source": [
    "plt.imshow(cv2.cvtColor(state, cv2.COLOR_BGR2RGB))"
   ]
  },
  {
   "cell_type": "code",
   "execution_count": 91,
   "id": "6033005c",
   "metadata": {},
   "outputs": [],
   "source": [
    "env.close()"
   ]
  },
  {
   "cell_type": "code",
   "execution_count": 89,
   "id": "9fcf74b4",
   "metadata": {},
   "outputs": [],
   "source": [
    "# Import enviornment checker\n",
    "from stable_baselines3.common import env_checker"
   ]
  },
  {
   "cell_type": "code",
   "execution_count": 90,
   "id": "922b336d",
   "metadata": {},
   "outputs": [],
   "source": [
    "# Check for valid env - no error is good\n",
    "env_checker.check_env(env)"
   ]
  },
  {
   "cell_type": "markdown",
   "id": "801a02e0",
   "metadata": {},
   "source": [
    "## 4. Setup Callback"
   ]
  },
  {
   "cell_type": "code",
   "execution_count": 92,
   "id": "d174e329",
   "metadata": {},
   "outputs": [],
   "source": [
    "# import necessary libraries\n",
    "import os\n",
    "from stable_baselines3.common.callbacks import BaseCallback"
   ]
  },
  {
   "cell_type": "code",
   "execution_count": 93,
   "id": "8bb7f5e4",
   "metadata": {},
   "outputs": [],
   "source": [
    "# Define class for training and logging callback\n",
    "class TrainAndLoggingCallback(BaseCallback):\n",
    "    \n",
    "    def __init__(self, check_freq, save_path, verbose=1):\n",
    "        super(TrainAndLoggingCallback, self).__init__(verbose)\n",
    "        self.check_freq = check_freq\n",
    "        self.save_path = save_path\n",
    "        \n",
    "    def _init_callback(self):\n",
    "        if self.save_path is not None:\n",
    "            os.makedirs(self.save_path, exist_ok=True)\n",
    "            \n",
    "    def _on_step(self):\n",
    "        if self.n_calls % self.check_freq == 0:\n",
    "            model_path = os.path.join(self.save_path, 'best_model_{}'.format(self.n_calls))\n",
    "            self.model.save(model_path)\n",
    "            \n",
    "        return True"
   ]
  },
  {
   "cell_type": "code",
   "execution_count": 94,
   "id": "eab2067d",
   "metadata": {},
   "outputs": [],
   "source": [
    "# Dirs for saving trained RL models\n",
    "CHECKPOINT_DIR = './train/train_basic'\n",
    "LOG_DIR = './logs/log_basic'"
   ]
  },
  {
   "cell_type": "code",
   "execution_count": 95,
   "id": "d0d8a649",
   "metadata": {},
   "outputs": [],
   "source": [
    "# Create instance of train and logging callback - save pytorch model every 10,000 steps\n",
    "callback = TrainAndLoggingCallback(check_freq=10000, save_path=CHECKPOINT_DIR)"
   ]
  },
  {
   "cell_type": "markdown",
   "id": "dad521ff",
   "metadata": {},
   "source": [
    "## 5. Train Reinforcement Learning Model"
   ]
  },
  {
   "cell_type": "code",
   "execution_count": 96,
   "id": "d230d3f6",
   "metadata": {},
   "outputs": [],
   "source": [
    "# Import ppo for training\n",
    "from stable_baselines3 import PPO"
   ]
  },
  {
   "cell_type": "code",
   "execution_count": 97,
   "id": "1a63343d",
   "metadata": {},
   "outputs": [],
   "source": [
    "# Create non rendered enviornment\n",
    "env = VizDoomGym()"
   ]
  },
  {
   "cell_type": "code",
   "execution_count": 98,
   "id": "cdff7347",
   "metadata": {},
   "outputs": [
    {
     "name": "stdout",
     "output_type": "stream",
     "text": [
      "Using cpu device\n",
      "Wrapping the env with a `Monitor` wrapper\n",
      "Wrapping the env in a DummyVecEnv.\n",
      "Wrapping the env in a VecTransposeImage.\n"
     ]
    }
   ],
   "source": [
    "# Define model and policy \n",
    "model = PPO('CnnPolicy', env, tensorboard_log=LOG_DIR, verbose=1, learning_rate=0.0001, n_steps=2048)"
   ]
  },
  {
   "cell_type": "code",
   "execution_count": 99,
   "id": "6d537852",
   "metadata": {},
   "outputs": [
    {
     "name": "stdout",
     "output_type": "stream",
     "text": [
      "Logging to ./logs/log_basic\\PPO_6\n",
      "---------------------------------\n",
      "| rollout/           |          |\n",
      "|    ep_len_mean     | 30.6     |\n",
      "|    ep_rew_mean     | -67.8    |\n",
      "| time/              |          |\n",
      "|    fps             | 35       |\n",
      "|    iterations      | 1        |\n",
      "|    time_elapsed    | 57       |\n",
      "|    total_timesteps | 2048     |\n",
      "---------------------------------\n",
      "-----------------------------------------\n",
      "| rollout/                |             |\n",
      "|    ep_len_mean          | 27.6        |\n",
      "|    ep_rew_mean          | -53.6       |\n",
      "| time/                   |             |\n",
      "|    fps                  | 33          |\n",
      "|    iterations           | 2           |\n",
      "|    time_elapsed         | 122         |\n",
      "|    total_timesteps      | 4096        |\n",
      "| train/                  |             |\n",
      "|    approx_kl            | 0.009592133 |\n",
      "|    clip_fraction        | 0.146       |\n",
      "|    clip_range           | 0.2         |\n",
      "|    entropy_loss         | -1.09       |\n",
      "|    explained_variance   | -0.000133   |\n",
      "|    learning_rate        | 0.0001      |\n",
      "|    loss                 | 1.4e+03     |\n",
      "|    n_updates            | 10          |\n",
      "|    policy_gradient_loss | 0.000859    |\n",
      "|    value_loss           | 2.54e+03    |\n",
      "-----------------------------------------\n",
      "-----------------------------------------\n",
      "| rollout/                |             |\n",
      "|    ep_len_mean          | 29.2        |\n",
      "|    ep_rew_mean          | -59.5       |\n",
      "| time/                   |             |\n",
      "|    fps                  | 32          |\n",
      "|    iterations           | 3           |\n",
      "|    time_elapsed         | 190         |\n",
      "|    total_timesteps      | 6144        |\n",
      "| train/                  |             |\n",
      "|    approx_kl            | 0.011746202 |\n",
      "|    clip_fraction        | 0.1         |\n",
      "|    clip_range           | 0.2         |\n",
      "|    entropy_loss         | -1.09       |\n",
      "|    explained_variance   | 0.121       |\n",
      "|    learning_rate        | 0.0001      |\n",
      "|    loss                 | 1.56e+03    |\n",
      "|    n_updates            | 20          |\n",
      "|    policy_gradient_loss | -0.00206    |\n",
      "|    value_loss           | 3.08e+03    |\n",
      "-----------------------------------------\n",
      "-----------------------------------------\n",
      "| rollout/                |             |\n",
      "|    ep_len_mean          | 27.5        |\n",
      "|    ep_rew_mean          | -53.4       |\n",
      "| time/                   |             |\n",
      "|    fps                  | 31          |\n",
      "|    iterations           | 4           |\n",
      "|    time_elapsed         | 263         |\n",
      "|    total_timesteps      | 8192        |\n",
      "| train/                  |             |\n",
      "|    approx_kl            | 0.018429365 |\n",
      "|    clip_fraction        | 0.236       |\n",
      "|    clip_range           | 0.2         |\n",
      "|    entropy_loss         | -1.07       |\n",
      "|    explained_variance   | 0.278       |\n",
      "|    learning_rate        | 0.0001      |\n",
      "|    loss                 | 1.44e+03    |\n",
      "|    n_updates            | 30          |\n",
      "|    policy_gradient_loss | 0.00226     |\n",
      "|    value_loss           | 3.2e+03     |\n",
      "-----------------------------------------\n",
      "-----------------------------------------\n",
      "| rollout/                |             |\n",
      "|    ep_len_mean          | 23          |\n",
      "|    ep_rew_mean          | -32.6       |\n",
      "| time/                   |             |\n",
      "|    fps                  | 30          |\n",
      "|    iterations           | 5           |\n",
      "|    time_elapsed         | 331         |\n",
      "|    total_timesteps      | 10240       |\n",
      "| train/                  |             |\n",
      "|    approx_kl            | 0.010623479 |\n",
      "|    clip_fraction        | 0.29        |\n",
      "|    clip_range           | 0.2         |\n",
      "|    entropy_loss         | -1.06       |\n",
      "|    explained_variance   | 0.457       |\n",
      "|    learning_rate        | 0.0001      |\n",
      "|    loss                 | 1.22e+03    |\n",
      "|    n_updates            | 40          |\n",
      "|    policy_gradient_loss | 0.00719     |\n",
      "|    value_loss           | 3.07e+03    |\n",
      "-----------------------------------------\n",
      "-----------------------------------------\n",
      "| rollout/                |             |\n",
      "|    ep_len_mean          | 20.4        |\n",
      "|    ep_rew_mean          | -10.4       |\n",
      "| time/                   |             |\n",
      "|    fps                  | 30          |\n",
      "|    iterations           | 6           |\n",
      "|    time_elapsed         | 407         |\n",
      "|    total_timesteps      | 12288       |\n",
      "| train/                  |             |\n",
      "|    approx_kl            | 0.014638353 |\n",
      "|    clip_fraction        | 0.404       |\n",
      "|    clip_range           | 0.2         |\n",
      "|    entropy_loss         | -1.04       |\n",
      "|    explained_variance   | 0.526       |\n",
      "|    learning_rate        | 0.0001      |\n",
      "|    loss                 | 1.21e+03    |\n",
      "|    n_updates            | 50          |\n",
      "|    policy_gradient_loss | 0.0208      |\n",
      "|    value_loss           | 2.71e+03    |\n",
      "-----------------------------------------\n",
      "-----------------------------------------\n",
      "| rollout/                |             |\n",
      "|    ep_len_mean          | 15.1        |\n",
      "|    ep_rew_mean          | 17.8        |\n",
      "| time/                   |             |\n",
      "|    fps                  | 29          |\n",
      "|    iterations           | 7           |\n",
      "|    time_elapsed         | 485         |\n",
      "|    total_timesteps      | 14336       |\n",
      "| train/                  |             |\n",
      "|    approx_kl            | 0.018850893 |\n",
      "|    clip_fraction        | 0.326       |\n",
      "|    clip_range           | 0.2         |\n",
      "|    entropy_loss         | -1          |\n",
      "|    explained_variance   | 0.568       |\n",
      "|    learning_rate        | 0.0001      |\n",
      "|    loss                 | 2.02e+03    |\n",
      "|    n_updates            | 60          |\n",
      "|    policy_gradient_loss | 0.00886     |\n",
      "|    value_loss           | 3.63e+03    |\n",
      "-----------------------------------------\n",
      "-----------------------------------------\n",
      "| rollout/                |             |\n",
      "|    ep_len_mean          | 20.3        |\n",
      "|    ep_rew_mean          | -11.4       |\n",
      "| time/                   |             |\n",
      "|    fps                  | 29          |\n",
      "|    iterations           | 8           |\n",
      "|    time_elapsed         | 557         |\n",
      "|    total_timesteps      | 16384       |\n",
      "| train/                  |             |\n",
      "|    approx_kl            | 0.022743948 |\n",
      "|    clip_fraction        | 0.247       |\n",
      "|    clip_range           | 0.2         |\n",
      "|    entropy_loss         | -0.989      |\n",
      "|    explained_variance   | 0.675       |\n",
      "|    learning_rate        | 0.0001      |\n",
      "|    loss                 | 932         |\n",
      "|    n_updates            | 70          |\n",
      "|    policy_gradient_loss | 0.00559     |\n",
      "|    value_loss           | 2.5e+03     |\n",
      "-----------------------------------------\n",
      "-----------------------------------------\n",
      "| rollout/                |             |\n",
      "|    ep_len_mean          | 14.4        |\n",
      "|    ep_rew_mean          | 23.6        |\n",
      "| time/                   |             |\n",
      "|    fps                  | 28          |\n",
      "|    iterations           | 9           |\n",
      "|    time_elapsed         | 636         |\n",
      "|    total_timesteps      | 18432       |\n",
      "| train/                  |             |\n",
      "|    approx_kl            | 0.019736022 |\n",
      "|    clip_fraction        | 0.325       |\n",
      "|    clip_range           | 0.2         |\n",
      "|    entropy_loss         | -1.01       |\n",
      "|    explained_variance   | 0.564       |\n",
      "|    learning_rate        | 0.0001      |\n",
      "|    loss                 | 1.77e+03    |\n",
      "|    n_updates            | 80          |\n",
      "|    policy_gradient_loss | 0.00697     |\n",
      "|    value_loss           | 4.52e+03    |\n",
      "-----------------------------------------\n",
      "-----------------------------------------\n",
      "| rollout/                |             |\n",
      "|    ep_len_mean          | 11          |\n",
      "|    ep_rew_mean          | 48.7        |\n",
      "| time/                   |             |\n",
      "|    fps                  | 28          |\n",
      "|    iterations           | 10          |\n",
      "|    time_elapsed         | 713         |\n",
      "|    total_timesteps      | 20480       |\n",
      "| train/                  |             |\n",
      "|    approx_kl            | 0.013187138 |\n",
      "|    clip_fraction        | 0.273       |\n",
      "|    clip_range           | 0.2         |\n",
      "|    entropy_loss         | -0.981      |\n",
      "|    explained_variance   | 0.617       |\n",
      "|    learning_rate        | 0.0001      |\n",
      "|    loss                 | 2.14e+03    |\n",
      "|    n_updates            | 90          |\n",
      "|    policy_gradient_loss | 0.00274     |\n",
      "|    value_loss           | 3.86e+03    |\n",
      "-----------------------------------------\n"
     ]
    },
    {
     "name": "stdout",
     "output_type": "stream",
     "text": [
      "-----------------------------------------\n",
      "| rollout/                |             |\n",
      "|    ep_len_mean          | 15.2        |\n",
      "|    ep_rew_mean          | 24.9        |\n",
      "| time/                   |             |\n",
      "|    fps                  | 28          |\n",
      "|    iterations           | 11          |\n",
      "|    time_elapsed         | 788         |\n",
      "|    total_timesteps      | 22528       |\n",
      "| train/                  |             |\n",
      "|    approx_kl            | 0.040622458 |\n",
      "|    clip_fraction        | 0.366       |\n",
      "|    clip_range           | 0.2         |\n",
      "|    entropy_loss         | -0.883      |\n",
      "|    explained_variance   | 0.57        |\n",
      "|    learning_rate        | 0.0001      |\n",
      "|    loss                 | 808         |\n",
      "|    n_updates            | 100         |\n",
      "|    policy_gradient_loss | 0.0219      |\n",
      "|    value_loss           | 2.46e+03    |\n",
      "-----------------------------------------\n",
      "-----------------------------------------\n",
      "| rollout/                |             |\n",
      "|    ep_len_mean          | 12.8        |\n",
      "|    ep_rew_mean          | 33.9        |\n",
      "| time/                   |             |\n",
      "|    fps                  | 28          |\n",
      "|    iterations           | 12          |\n",
      "|    time_elapsed         | 859         |\n",
      "|    total_timesteps      | 24576       |\n",
      "| train/                  |             |\n",
      "|    approx_kl            | 0.022343181 |\n",
      "|    clip_fraction        | 0.376       |\n",
      "|    clip_range           | 0.2         |\n",
      "|    entropy_loss         | -0.888      |\n",
      "|    explained_variance   | 0.542       |\n",
      "|    learning_rate        | 0.0001      |\n",
      "|    loss                 | 1.24e+03    |\n",
      "|    n_updates            | 110         |\n",
      "|    policy_gradient_loss | 0.0173      |\n",
      "|    value_loss           | 2.5e+03     |\n",
      "-----------------------------------------\n",
      "-----------------------------------------\n",
      "| rollout/                |             |\n",
      "|    ep_len_mean          | 13.9        |\n",
      "|    ep_rew_mean          | 28.9        |\n",
      "| time/                   |             |\n",
      "|    fps                  | 28          |\n",
      "|    iterations           | 13          |\n",
      "|    time_elapsed         | 930         |\n",
      "|    total_timesteps      | 26624       |\n",
      "| train/                  |             |\n",
      "|    approx_kl            | 0.023116065 |\n",
      "|    clip_fraction        | 0.273       |\n",
      "|    clip_range           | 0.2         |\n",
      "|    entropy_loss         | -0.847      |\n",
      "|    explained_variance   | 0.649       |\n",
      "|    learning_rate        | 0.0001      |\n",
      "|    loss                 | 834         |\n",
      "|    n_updates            | 120         |\n",
      "|    policy_gradient_loss | -0.00265    |\n",
      "|    value_loss           | 2.18e+03    |\n",
      "-----------------------------------------\n",
      "----------------------------------------\n",
      "| rollout/                |            |\n",
      "|    ep_len_mean          | 8.7        |\n",
      "|    ep_rew_mean          | 58.5       |\n",
      "| time/                   |            |\n",
      "|    fps                  | 28         |\n",
      "|    iterations           | 14         |\n",
      "|    time_elapsed         | 1006       |\n",
      "|    total_timesteps      | 28672      |\n",
      "| train/                  |            |\n",
      "|    approx_kl            | 0.03172909 |\n",
      "|    clip_fraction        | 0.291      |\n",
      "|    clip_range           | 0.2        |\n",
      "|    entropy_loss         | -0.778     |\n",
      "|    explained_variance   | 0.674      |\n",
      "|    learning_rate        | 0.0001     |\n",
      "|    loss                 | 839        |\n",
      "|    n_updates            | 130        |\n",
      "|    policy_gradient_loss | -0.00836   |\n",
      "|    value_loss           | 1.79e+03   |\n",
      "----------------------------------------\n",
      "-----------------------------------------\n",
      "| rollout/                |             |\n",
      "|    ep_len_mean          | 7.47        |\n",
      "|    ep_rew_mean          | 66.4        |\n",
      "| time/                   |             |\n",
      "|    fps                  | 28          |\n",
      "|    iterations           | 15          |\n",
      "|    time_elapsed         | 1087        |\n",
      "|    total_timesteps      | 30720       |\n",
      "| train/                  |             |\n",
      "|    approx_kl            | 0.022485489 |\n",
      "|    clip_fraction        | 0.198       |\n",
      "|    clip_range           | 0.2         |\n",
      "|    entropy_loss         | -0.651      |\n",
      "|    explained_variance   | 0.777       |\n",
      "|    learning_rate        | 0.0001      |\n",
      "|    loss                 | 550         |\n",
      "|    n_updates            | 140         |\n",
      "|    policy_gradient_loss | -0.00866    |\n",
      "|    value_loss           | 1.25e+03    |\n",
      "-----------------------------------------\n",
      "----------------------------------------\n",
      "| rollout/                |            |\n",
      "|    ep_len_mean          | 16.7       |\n",
      "|    ep_rew_mean          | 6.89       |\n",
      "| time/                   |            |\n",
      "|    fps                  | 28         |\n",
      "|    iterations           | 16         |\n",
      "|    time_elapsed         | 1163       |\n",
      "|    total_timesteps      | 32768      |\n",
      "| train/                  |            |\n",
      "|    approx_kl            | 0.03906162 |\n",
      "|    clip_fraction        | 0.293      |\n",
      "|    clip_range           | 0.2        |\n",
      "|    entropy_loss         | -0.644     |\n",
      "|    explained_variance   | 0.46       |\n",
      "|    learning_rate        | 0.0001     |\n",
      "|    loss                 | 239        |\n",
      "|    n_updates            | 150        |\n",
      "|    policy_gradient_loss | 0.0187     |\n",
      "|    value_loss           | 565        |\n",
      "----------------------------------------\n",
      "-----------------------------------------\n",
      "| rollout/                |             |\n",
      "|    ep_len_mean          | 8.08        |\n",
      "|    ep_rew_mean          | 61.1        |\n",
      "| time/                   |             |\n",
      "|    fps                  | 28          |\n",
      "|    iterations           | 17          |\n",
      "|    time_elapsed         | 1239        |\n",
      "|    total_timesteps      | 34816       |\n",
      "| train/                  |             |\n",
      "|    approx_kl            | 0.025529258 |\n",
      "|    clip_fraction        | 0.272       |\n",
      "|    clip_range           | 0.2         |\n",
      "|    entropy_loss         | -0.8        |\n",
      "|    explained_variance   | 0.649       |\n",
      "|    learning_rate        | 0.0001      |\n",
      "|    loss                 | 922         |\n",
      "|    n_updates            | 160         |\n",
      "|    policy_gradient_loss | 0.00512     |\n",
      "|    value_loss           | 1.7e+03     |\n",
      "-----------------------------------------\n",
      "-----------------------------------------\n",
      "| rollout/                |             |\n",
      "|    ep_len_mean          | 7.01        |\n",
      "|    ep_rew_mean          | 68.2        |\n",
      "| time/                   |             |\n",
      "|    fps                  | 27          |\n",
      "|    iterations           | 18          |\n",
      "|    time_elapsed         | 1328        |\n",
      "|    total_timesteps      | 36864       |\n",
      "| train/                  |             |\n",
      "|    approx_kl            | 0.039818347 |\n",
      "|    clip_fraction        | 0.293       |\n",
      "|    clip_range           | 0.2         |\n",
      "|    entropy_loss         | -0.639      |\n",
      "|    explained_variance   | 0.74        |\n",
      "|    learning_rate        | 0.0001      |\n",
      "|    loss                 | 643         |\n",
      "|    n_updates            | 170         |\n",
      "|    policy_gradient_loss | -0.00217    |\n",
      "|    value_loss           | 948         |\n",
      "-----------------------------------------\n",
      "-----------------------------------------\n",
      "| rollout/                |             |\n",
      "|    ep_len_mean          | 6.24        |\n",
      "|    ep_rew_mean          | 74          |\n",
      "| time/                   |             |\n",
      "|    fps                  | 27          |\n",
      "|    iterations           | 19          |\n",
      "|    time_elapsed         | 1412        |\n",
      "|    total_timesteps      | 38912       |\n",
      "| train/                  |             |\n",
      "|    approx_kl            | 0.025544211 |\n",
      "|    clip_fraction        | 0.272       |\n",
      "|    clip_range           | 0.2         |\n",
      "|    entropy_loss         | -0.697      |\n",
      "|    explained_variance   | 0.721       |\n",
      "|    learning_rate        | 0.0001      |\n",
      "|    loss                 | 330         |\n",
      "|    n_updates            | 180         |\n",
      "|    policy_gradient_loss | 0.0047      |\n",
      "|    value_loss           | 1.15e+03    |\n",
      "-----------------------------------------\n",
      "----------------------------------------\n",
      "| rollout/                |            |\n",
      "|    ep_len_mean          | 6.36       |\n",
      "|    ep_rew_mean          | 73.2       |\n",
      "| time/                   |            |\n",
      "|    fps                  | 27         |\n",
      "|    iterations           | 20         |\n",
      "|    time_elapsed         | 1508       |\n",
      "|    total_timesteps      | 40960      |\n",
      "| train/                  |            |\n",
      "|    approx_kl            | 0.11173901 |\n",
      "|    clip_fraction        | 0.297      |\n",
      "|    clip_range           | 0.2        |\n",
      "|    entropy_loss         | -0.672     |\n",
      "|    explained_variance   | 0.759      |\n",
      "|    learning_rate        | 0.0001     |\n",
      "|    loss                 | 116        |\n",
      "|    n_updates            | 190        |\n",
      "|    policy_gradient_loss | 0.0148     |\n",
      "|    value_loss           | 511        |\n",
      "----------------------------------------\n"
     ]
    },
    {
     "name": "stdout",
     "output_type": "stream",
     "text": [
      "-----------------------------------------\n",
      "| rollout/                |             |\n",
      "|    ep_len_mean          | 5.9         |\n",
      "|    ep_rew_mean          | 74.8        |\n",
      "| time/                   |             |\n",
      "|    fps                  | 26          |\n",
      "|    iterations           | 21          |\n",
      "|    time_elapsed         | 1607        |\n",
      "|    total_timesteps      | 43008       |\n",
      "| train/                  |             |\n",
      "|    approx_kl            | 0.056591697 |\n",
      "|    clip_fraction        | 0.298       |\n",
      "|    clip_range           | 0.2         |\n",
      "|    entropy_loss         | -0.528      |\n",
      "|    explained_variance   | 0.55        |\n",
      "|    learning_rate        | 0.0001      |\n",
      "|    loss                 | 126         |\n",
      "|    n_updates            | 200         |\n",
      "|    policy_gradient_loss | -0.000893   |\n",
      "|    value_loss           | 302         |\n",
      "-----------------------------------------\n",
      "-----------------------------------------\n",
      "| rollout/                |             |\n",
      "|    ep_len_mean          | 5.03        |\n",
      "|    ep_rew_mean          | 80.5        |\n",
      "| time/                   |             |\n",
      "|    fps                  | 26          |\n",
      "|    iterations           | 22          |\n",
      "|    time_elapsed         | 1704        |\n",
      "|    total_timesteps      | 45056       |\n",
      "| train/                  |             |\n",
      "|    approx_kl            | 0.050071687 |\n",
      "|    clip_fraction        | 0.232       |\n",
      "|    clip_range           | 0.2         |\n",
      "|    entropy_loss         | -0.423      |\n",
      "|    explained_variance   | 0.55        |\n",
      "|    learning_rate        | 0.0001      |\n",
      "|    loss                 | 184         |\n",
      "|    n_updates            | 210         |\n",
      "|    policy_gradient_loss | -0.00719    |\n",
      "|    value_loss           | 313         |\n",
      "-----------------------------------------\n",
      "-----------------------------------------\n",
      "| rollout/                |             |\n",
      "|    ep_len_mean          | 5.33        |\n",
      "|    ep_rew_mean          | 80          |\n",
      "| time/                   |             |\n",
      "|    fps                  | 26          |\n",
      "|    iterations           | 23          |\n",
      "|    time_elapsed         | 1809        |\n",
      "|    total_timesteps      | 47104       |\n",
      "| train/                  |             |\n",
      "|    approx_kl            | 0.057979614 |\n",
      "|    clip_fraction        | 0.236       |\n",
      "|    clip_range           | 0.2         |\n",
      "|    entropy_loss         | -0.414      |\n",
      "|    explained_variance   | 0.5         |\n",
      "|    learning_rate        | 0.0001      |\n",
      "|    loss                 | 58          |\n",
      "|    n_updates            | 220         |\n",
      "|    policy_gradient_loss | 0.0149      |\n",
      "|    value_loss           | 208         |\n",
      "-----------------------------------------\n",
      "----------------------------------------\n",
      "| rollout/                |            |\n",
      "|    ep_len_mean          | 4.8        |\n",
      "|    ep_rew_mean          | 81.3       |\n",
      "| time/                   |            |\n",
      "|    fps                  | 25         |\n",
      "|    iterations           | 24         |\n",
      "|    time_elapsed         | 1915       |\n",
      "|    total_timesteps      | 49152      |\n",
      "| train/                  |            |\n",
      "|    approx_kl            | 0.13781717 |\n",
      "|    clip_fraction        | 0.205      |\n",
      "|    clip_range           | 0.2        |\n",
      "|    entropy_loss         | -0.368     |\n",
      "|    explained_variance   | 0.537      |\n",
      "|    learning_rate        | 0.0001     |\n",
      "|    loss                 | 104        |\n",
      "|    n_updates            | 230        |\n",
      "|    policy_gradient_loss | 0.0442     |\n",
      "|    value_loss           | 162        |\n",
      "----------------------------------------\n",
      "----------------------------------------\n",
      "| rollout/                |            |\n",
      "|    ep_len_mean          | 4.24       |\n",
      "|    ep_rew_mean          | 85.4       |\n",
      "| time/                   |            |\n",
      "|    fps                  | 25         |\n",
      "|    iterations           | 25         |\n",
      "|    time_elapsed         | 2004       |\n",
      "|    total_timesteps      | 51200      |\n",
      "| train/                  |            |\n",
      "|    approx_kl            | 0.04180296 |\n",
      "|    clip_fraction        | 0.156      |\n",
      "|    clip_range           | 0.2        |\n",
      "|    entropy_loss         | -0.285     |\n",
      "|    explained_variance   | 0.61       |\n",
      "|    learning_rate        | 0.0001     |\n",
      "|    loss                 | 74.2       |\n",
      "|    n_updates            | 240        |\n",
      "|    policy_gradient_loss | 0.0101     |\n",
      "|    value_loss           | 138        |\n",
      "----------------------------------------\n"
     ]
    },
    {
     "data": {
      "text/plain": [
       "<stable_baselines3.ppo.ppo.PPO at 0x215b3029910>"
      ]
     },
     "execution_count": 99,
     "metadata": {},
     "output_type": "execute_result"
    }
   ],
   "source": [
    "# Train model\n",
    "model.learn(total_timesteps=50000, callback=callback)"
   ]
  },
  {
   "cell_type": "markdown",
   "id": "b9b1e2ed",
   "metadata": {},
   "source": [
    "## 6. Test Model"
   ]
  },
  {
   "cell_type": "code",
   "execution_count": 100,
   "id": "537dd228",
   "metadata": {},
   "outputs": [],
   "source": [
    "# import evaluation policy to test agent\n",
    "from stable_baselines3.common.evaluation import evaluate_policy\n",
    "import time"
   ]
  },
  {
   "cell_type": "code",
   "execution_count": 101,
   "id": "88b12759",
   "metadata": {},
   "outputs": [],
   "source": [
    "# Reload model from disc drive\n",
    "model = PPO.load('./train/train_basic/best_model_50000')"
   ]
  },
  {
   "cell_type": "code",
   "execution_count": 102,
   "id": "ed3ff720",
   "metadata": {},
   "outputs": [],
   "source": [
    "# Create rendered enviornment\n",
    "env = VizDoomGym(render=True)"
   ]
  },
  {
   "cell_type": "code",
   "execution_count": 103,
   "id": "ae43020a",
   "metadata": {},
   "outputs": [],
   "source": [
    "# Evaluate mean reward for 10 games\n",
    "mean_reward, _ = evaluate_policy(model, env, n_eval_episodes=100)"
   ]
  },
  {
   "cell_type": "code",
   "execution_count": 104,
   "id": "09223eb3",
   "metadata": {},
   "outputs": [
    {
     "data": {
      "text/plain": [
       "82.69"
      ]
     },
     "execution_count": 104,
     "metadata": {},
     "output_type": "execute_result"
    }
   ],
   "source": [
    "# Display mean reward\n",
    "mean_reward"
   ]
  },
  {
   "cell_type": "code",
   "execution_count": 112,
   "id": "c2d887c0",
   "metadata": {},
   "outputs": [
    {
     "name": "stdout",
     "output_type": "stream",
     "text": [
      "Total Reward for episode 0 is 95.0\n",
      "Total Reward for episode 1 is 95.0\n",
      "Total Reward for episode 2 is 75.0\n",
      "Total Reward for episode 3 is 63.0\n",
      "Total Reward for episode 4 is 79.0\n",
      "Total Reward for episode 5 is 95.0\n",
      "Total Reward for episode 6 is 95.0\n",
      "Total Reward for episode 7 is 95.0\n",
      "Total Reward for episode 8 is 95.0\n",
      "Total Reward for episode 9 is 91.0\n",
      "Total Reward for episode 10 is 67.0\n",
      "Total Reward for episode 11 is 75.0\n",
      "Total Reward for episode 12 is 83.0\n",
      "Total Reward for episode 13 is 91.0\n",
      "Total Reward for episode 14 is 95.0\n",
      "Total Reward for episode 15 is 95.0\n",
      "Total Reward for episode 16 is 52.0\n",
      "Total Reward for episode 17 is 95.0\n",
      "Total Reward for episode 18 is 59.0\n",
      "Total Reward for episode 19 is 95.0\n",
      "Total Reward for episode 20 is 95.0\n",
      "Total Reward for episode 21 is 71.0\n",
      "Total Reward for episode 22 is 95.0\n",
      "Total Reward for episode 23 is 95.0\n",
      "Total Reward for episode 24 is 95.0\n",
      "Total Reward for episode 25 is 43.0\n",
      "Total Reward for episode 26 is -300.0\n",
      "Total Reward for episode 27 is 79.0\n",
      "Total Reward for episode 28 is 71.0\n",
      "Total Reward for episode 29 is 95.0\n",
      "Total Reward for episode 30 is 95.0\n",
      "Total Reward for episode 31 is 95.0\n",
      "Total Reward for episode 32 is 56.0\n",
      "Total Reward for episode 33 is 95.0\n",
      "Total Reward for episode 34 is 95.0\n",
      "Total Reward for episode 35 is 95.0\n",
      "Total Reward for episode 36 is 83.0\n",
      "Total Reward for episode 37 is 71.0\n",
      "Total Reward for episode 38 is 59.0\n",
      "Total Reward for episode 39 is 63.0\n",
      "Total Reward for episode 40 is 95.0\n",
      "Total Reward for episode 41 is 95.0\n",
      "Total Reward for episode 42 is 75.0\n",
      "Total Reward for episode 43 is 95.0\n",
      "Total Reward for episode 44 is 95.0\n",
      "Total Reward for episode 45 is 67.0\n",
      "Total Reward for episode 46 is 95.0\n",
      "Total Reward for episode 47 is 95.0\n",
      "Total Reward for episode 48 is 95.0\n",
      "Total Reward for episode 49 is 71.0\n",
      "Total Reward for episode 50 is 71.0\n",
      "Total Reward for episode 51 is 91.0\n",
      "Total Reward for episode 52 is 91.0\n",
      "Total Reward for episode 53 is 83.0\n",
      "Total Reward for episode 54 is 72.0\n",
      "Total Reward for episode 55 is 79.0\n",
      "Total Reward for episode 56 is 95.0\n",
      "Total Reward for episode 57 is 95.0\n",
      "Total Reward for episode 58 is 44.0\n",
      "Total Reward for episode 59 is 52.0\n",
      "Total Reward for episode 60 is 95.0\n",
      "Total Reward for episode 61 is 95.0\n",
      "Total Reward for episode 62 is 95.0\n",
      "Total Reward for episode 63 is 95.0\n",
      "Total Reward for episode 64 is 60.0\n",
      "Total Reward for episode 65 is 95.0\n",
      "Total Reward for episode 66 is 95.0\n",
      "Total Reward for episode 67 is 79.0\n",
      "Total Reward for episode 68 is 91.0\n",
      "Total Reward for episode 69 is 95.0\n",
      "Total Reward for episode 70 is -310.0\n",
      "Total Reward for episode 71 is 75.0\n",
      "Total Reward for episode 72 is 95.0\n",
      "Total Reward for episode 73 is 95.0\n",
      "Total Reward for episode 74 is 95.0\n",
      "Total Reward for episode 75 is 79.0\n",
      "Total Reward for episode 76 is 91.0\n",
      "Total Reward for episode 77 is 95.0\n",
      "Total Reward for episode 78 is 95.0\n",
      "Total Reward for episode 79 is 75.0\n",
      "Total Reward for episode 80 is 48.0\n",
      "Total Reward for episode 81 is 63.0\n",
      "Total Reward for episode 82 is -1.0\n",
      "Total Reward for episode 83 is 71.0\n",
      "Total Reward for episode 84 is 95.0\n",
      "Total Reward for episode 85 is 95.0\n",
      "Total Reward for episode 86 is 95.0\n",
      "Total Reward for episode 87 is 87.0\n",
      "Total Reward for episode 88 is 67.0\n",
      "Total Reward for episode 89 is 60.0\n",
      "Total Reward for episode 90 is 67.0\n",
      "Total Reward for episode 91 is 95.0\n",
      "Total Reward for episode 92 is 71.0\n",
      "Total Reward for episode 93 is 95.0\n",
      "Total Reward for episode 94 is 95.0\n",
      "Total Reward for episode 95 is 95.0\n",
      "Total Reward for episode 96 is 14.0\n",
      "Total Reward for episode 97 is 95.0\n",
      "Total Reward for episode 98 is 95.0\n",
      "Total Reward for episode 99 is 95.0\n"
     ]
    }
   ],
   "source": [
    "# Loop to test agent without using evaluate_policy\n",
    "for episode in range(100): \n",
    "    obs = env.reset() # observations\n",
    "    done = False # havent completed\n",
    "    total_reward = 0 \n",
    "    while not done: \n",
    "        action, _ = model.predict(obs) # get action\n",
    "        obs, reward, done, info = env.step(action) # pass into env step function\n",
    "        #time.sleep(0.20)\n",
    "        total_reward += reward # update reward\n",
    "    print('Total Reward for episode {} is {}'.format(episode, total_reward))"
   ]
  },
  {
   "cell_type": "code",
   "execution_count": 113,
   "id": "cb140c2a",
   "metadata": {},
   "outputs": [],
   "source": [
    "env.close()"
   ]
  }
 ],
 "metadata": {
  "kernelspec": {
   "display_name": "Python 3 (ipykernel)",
   "language": "python",
   "name": "python3"
  },
  "language_info": {
   "codemirror_mode": {
    "name": "ipython",
    "version": 3
   },
   "file_extension": ".py",
   "mimetype": "text/x-python",
   "name": "python",
   "nbconvert_exporter": "python",
   "pygments_lexer": "ipython3",
   "version": "3.9.12"
  }
 },
 "nbformat": 4,
 "nbformat_minor": 5
}
